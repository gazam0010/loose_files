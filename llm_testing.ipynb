{
 "cells": [
  {
   "cell_type": "markdown",
   "id": "e49e0b60-d74b-48c5-9970-f6a959b15462",
   "metadata": {},
   "source": [
    "### Importing required libraries and modules"
   ]
  },
  {
   "cell_type": "code",
   "execution_count": 1,
   "id": "ab501d59-cf2b-4d6a-bb78-65d2e56b3b4d",
   "metadata": {
    "scrolled": true
   },
   "outputs": [],
   "source": [
    "import os\n",
    "import time\n",
    "import psutil\n",
    "import pandas as pd\n",
    "from datetime import datetime\n",
    "from pathlib import Path\n",
    "\n",
    "from llama_index.core import SimpleDirectoryReader, VectorStoreIndex\n",
    "from llama_index.llms.ollama import Ollama\n",
    "\n",
    "from dotenv import load_dotenv\n",
    "load_dotenv() \n",
    "\n",
    "import os\n",
    "api_key = os.getenv(\"OPENAI_API_KEY\")"
   ]
  },
  {
   "cell_type": "markdown",
   "id": "b60b7786-af0d-410d-86f0-d94880ce7322",
   "metadata": {},
   "source": [
    "### Listing desired models"
   ]
  },
  {
   "cell_type": "code",
   "execution_count": 2,
   "id": "9361e762-0f37-4d5d-9cda-c4736806f95a",
   "metadata": {},
   "outputs": [],
   "source": [
    "AVAILABLE_MODELS = {\n",
    "    \"Mistral:7B-q4\": \"mistral:7b-instruct-q4_0\",\n",
    "    \"Gemma\": \"gemma\",\n",
    "    \"DeepSeek:7B\": \"deepseek-r1\",\n",
    "    \"Ollama3.2:3B-q8\": \"llama3.2:3b-instruct-q8_0\"\n",
    "}"
   ]
  },
  {
   "cell_type": "markdown",
   "id": "33ce0684-c089-4a74-ab15-72f5c7ebe0aa",
   "metadata": {},
   "source": [
    "### Model Evaluations"
   ]
  },
  {
   "cell_type": "code",
   "execution_count": 3,
   "id": "4a6b16c0-8de2-4dd8-8834-3fe83aa6cb4d",
   "metadata": {},
   "outputs": [
    {
     "name": "stdout",
     "output_type": "stream",
     "text": [
      "================================================================================\n",
      "MODEL EVALUATION\n",
      "================================================================================\n"
     ]
    },
    {
     "name": "stdin",
     "output_type": "stream",
     "text": [
      "\n",
      "Enter your question (or 'q' to quit):  q\n"
     ]
    },
    {
     "name": "stdout",
     "output_type": "stream",
     "text": [
      "\n",
      "Exiting program. Goodbye!\n"
     ]
    },
    {
     "name": "stdout",
     "output_type": "stream",
     "text": [
      "\n",
      "Enter your question (or 'q' to quit):  hi\n"
     ]
    },
    {
     "name": "stdout",
     "output_type": "stream",
     "text": [
      "\n",
      "Evaluating prompt: 'hi'\n",
      "\n",
      "================================================================================\n",
      "\n",
      "Processing model: Mistral: \n"
     ]
    }
   ],
   "source": [
    "def evaluate_responses(prompt_text):\n",
    "\n",
    "    try:\n",
    "        documents_path = \"files\"\n",
    "        \n",
    "        documents = SimpleDirectoryReader(documents_path).load_data()\n",
    "        \n",
    "        index = VectorStoreIndex.from_documents(documents)\n",
    "\n",
    "        model_responses = []\n",
    "        performance_metrics = []\n",
    "\n",
    "        print(f\"\\nEvaluating prompt: '{prompt_text}'\\n\")\n",
    "        print(\"=\" * 80)\n",
    "        \n",
    "        for model_name, model_alias in AVAILABLE_MODELS.items():\n",
    "            print(f\"\\nProcessing model: {model_name}: \")\n",
    "\n",
    "            llm = Ollama(model=model_alias, request_timeout=300, temperature=0.7)\n",
    "            query_engine = index.as_query_engine(llm=llm)\n",
    "\n",
    "            start_time = time.time()\n",
    "            response = query_engine.query(prompt_text)\n",
    "            end_time = time.time()\n",
    "\n",
    "            execution_time = round(end_time - start_time, 2)\n",
    "\n",
    "            model_responses.append({\n",
    "                \"model\": model_name,\n",
    "                \"response\": str(response),\n",
    "                \"execution_time\": execution_time\n",
    "            })\n",
    "\n",
    "            performance_metrics.append({\n",
    "                \"Model\": model_name,\n",
    "                \"Execution Time (s)\": execution_time,\n",
    "                \"Response\": str(response)\n",
    "            })\n",
    "            \n",
    "            print(f\"  Execution time: {execution_time} seconds\")\n",
    "            print(f\"  Response: {str(response)[:150]}...\")\n",
    "            \n",
    "        save_metrics_to_csv(performance_metrics)\n",
    "        \n",
    "        timestamp = datetime.now().strftime(\"%Y%m%d_%H%M%S\")\n",
    "        save_detailed_output(prompt_text, model_responses, timestamp)\n",
    "\n",
    "        print(f\"\\nResults saved to model_evaluation.csv and model_responses_{timestamp}.txt\")\n",
    "        \n",
    "        return {\n",
    "            \"message\": \"Evaluation completed. Metrics saved.\",\n",
    "            \"performance_metrics\": performance_metrics,\n",
    "        }\n",
    "\n",
    "    except Exception as e:\n",
    "        print(f\"Error: {str(e)}\")\n",
    "        return None\n",
    "\n",
    "def save_metrics_to_csv(data):\n",
    "    filename = \"model_evaluation.csv\"\n",
    "    file_exists = os.path.isfile(filename)\n",
    "\n",
    "    df = pd.DataFrame(data)\n",
    "\n",
    "    if file_exists:\n",
    "        df.to_csv(filename, mode='a', header=False, index=False)\n",
    "    else:\n",
    "        df.to_csv(filename, mode='w', header=True, index=False)\n",
    "        \n",
    "def save_detailed_output(prompt, model_responses, timestamp):\n",
    "    filename = f\"model_responses_{timestamp}.txt\"\n",
    "    \n",
    "    with open(filename, 'w') as f:\n",
    "        f.write(f\"PROMPT: {prompt}\\n\\n\")\n",
    "        f.write(\"=\" * 80 + \"\\n\\n\")\n",
    "        \n",
    "        for response in model_responses:\n",
    "            model_name = response[\"model\"]\n",
    "            f.write(f\"MODEL: {model_name}\\n\")\n",
    "            f.write(\"-\" * 40 + \"\\n\")\n",
    "            f.write(f\"Execution Time: {response['execution_time']} seconds\\n\")\n",
    "            f.write(\"\\nRESPONSE:\\n\")\n",
    "            f.write(response[\"response\"])\n",
    "            f.write(\"\\n\\n\" + \"=\" * 80 + \"\\n\\n\")\n",
    "\n",
    "def main():\n",
    "    print(\"=\" * 80)\n",
    "    print(\"MODEL EVALUATION\")\n",
    "    print(\"=\" * 80)\n",
    "    \n",
    "    while True:\n",
    "        prompt = input(\"\\nEnter your question (or 'q' to quit): \")\n",
    "        \n",
    "        if prompt.lower() == 'q':\n",
    "            print(\"\\nExiting program. Goodbye!\")\n",
    "            break\n",
    "            \n",
    "        evaluate_responses(prompt)\n",
    "        \n",
    "        print(\"\\n\" + \"-\" * 80)\n",
    "\n",
    "if __name__ == \"__main__\":\n",
    "    main()"
   ]
  }
 ],
 "metadata": {
  "kernelspec": {
   "display_name": "Python 3 (ipykernel)",
   "language": "python",
   "name": "python3"
  },
  "language_info": {
   "codemirror_mode": {
    "name": "ipython",
    "version": 3
   },
   "file_extension": ".py",
   "mimetype": "text/x-python",
   "name": "python",
   "nbconvert_exporter": "python",
   "pygments_lexer": "ipython3",
   "version": "3.9.21"
  }
 },
 "nbformat": 4,
 "nbformat_minor": 5
}
